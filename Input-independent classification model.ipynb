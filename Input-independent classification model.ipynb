{
 "cells": [
  {
   "cell_type": "markdown",
   "id": "b269829a-ada0-4471-9ca8-3f5c6ef23a9f",
   "metadata": {},
   "source": [
    "# Model independent of input size\n",
    "\n",
    "## Classification"
   ]
  },
  {
   "cell_type": "code",
   "execution_count": 1,
   "id": "3ff75746-6df4-4cae-a7ca-3a0582a33b72",
   "metadata": {},
   "outputs": [],
   "source": [
    "import torch\n",
    "import torch.nn as nn\n",
    "import torch.nn.functional as F\n",
    "\n",
    "import torchvision.models as models"
   ]
  },
  {
   "cell_type": "code",
   "execution_count": 2,
   "id": "696ab164-c57e-4a28-990c-f5c90eeb3bdb",
   "metadata": {},
   "outputs": [],
   "source": [
    "device = \"cuda\" if torch.cuda.is_available() else \"cpu\""
   ]
  },
  {
   "cell_type": "code",
   "execution_count": 3,
   "id": "eca5219a-2ef4-4613-b07d-a9b73e1d6af5",
   "metadata": {},
   "outputs": [],
   "source": [
    "class ResNetVariableInput(nn.Module):\n",
    "    \"\"\" ResNet with adaptive pooling to make it input independent \"\"\"\n",
    "    \n",
    "    def __init__(self, num_classes=16):\n",
    "        super().__init__()\n",
    "        # Load pretrained ResNet50\n",
    "        self.backbone = models.resnet50(weights=\"IMAGENET1K_V1\")\n",
    "        \n",
    "        # Replace fixed-size avgpool with adaptive global pooling\n",
    "        # (N, 2048, H/32, W/32) --> (N, 2048, 1, 1)\n",
    "        # This makes the network input-size agnostic, because its output is always [B, C, 1, 1]\n",
    "        # C is 2048, the number of channels of the last CNN\n",
    "        self.backbone.avgpool = nn.AdaptiveAvgPool2d((1, 1))\n",
    "        \n",
    "        # Replace final FC layer for 16 classes\n",
    "        in_features = self.backbone.fc.in_features\n",
    "        self.backbone.fc = nn.Linear(in_features, num_classes)\n",
    "\n",
    "    def forward(self, x):\n",
    "        return self.backbone(x)"
   ]
  },
  {
   "cell_type": "code",
   "execution_count": 4,
   "id": "7aa5ecd9-d6ff-4b2d-a163-ec5e31bd0e97",
   "metadata": {},
   "outputs": [
    {
     "name": "stdout",
     "output_type": "stream",
     "text": [
      "Output shapes:\n",
      "[2, 3, 128, 128] -> [2, 16]\n",
      "[2, 3, 256, 512] -> [2, 16]\n",
      "[2, 3, 480, 640] -> [2, 16]\n"
     ]
    }
   ],
   "source": [
    "# Test the model on variable input sizes ----\n",
    "model = ResNetVariableInput(num_classes=16).to(device)\n",
    "\n",
    "# Create dummy inputs with different spatial sizes\n",
    "x1 = torch.randn(2, 3, 128, 128).to(device)   # small square\n",
    "x2 = torch.randn(2, 3, 256, 512).to(device)   # rectangular\n",
    "x3 = torch.randn(2, 3, 480, 640).to(device)   # bigger\n",
    "\n",
    "# Forward pass\n",
    "y1 = model(x1)\n",
    "y2 = model(x2)\n",
    "y3 = model(x3)\n",
    "\n",
    "print(\"Output shapes:\")\n",
    "print(list(x1.shape), \"->\", list(y1.shape))  # (2, 16)\n",
    "print(list(x2.shape), \"->\", list(y2.shape))  # (2, 16)\n",
    "print(list(x3.shape), \"->\", list(y3.shape))  # (2, 16)"
   ]
  }
 ],
 "metadata": {
  "kernelspec": {
   "display_name": "Python 3 (ipykernel)",
   "language": "python",
   "name": "python3"
  },
  "language_info": {
   "codemirror_mode": {
    "name": "ipython",
    "version": 3
   },
   "file_extension": ".py",
   "mimetype": "text/x-python",
   "name": "python",
   "nbconvert_exporter": "python",
   "pygments_lexer": "ipython3",
   "version": "3.11.9"
  }
 },
 "nbformat": 4,
 "nbformat_minor": 5
}
